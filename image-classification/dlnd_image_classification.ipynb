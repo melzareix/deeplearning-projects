{
  "nbformat": 4,
  "nbformat_minor": 0,
  "metadata": {
    "colab": {
      "name": "dlnd_image_classification.ipynb",
      "version": "0.3.2",
      "views": {},
      "default_view": {},
      "provenance": [],
      "collapsed_sections": []
    },
    "kernelspec": {
      "display_name": "Python 3",
      "language": "python",
      "name": "python3"
    },
    "accelerator": "GPU"
  },
  "cells": [
    {
      "metadata": {
        "id": "9Kp-jdeki281",
        "colab_type": "text"
      },
      "cell_type": "markdown",
      "source": [
        "# Image Classification\n",
        "In this project, you'll classify images from the [CIFAR-10 dataset](https://www.cs.toronto.edu/~kriz/cifar.html).  The dataset consists of airplanes, dogs, cats, and other objects. You'll preprocess the images, then train a convolutional neural network on all the samples. The images need to be normalized and the labels need to be one-hot encoded.  You'll get to apply what you learned and build a convolutional, max pooling, dropout, and fully connected layers.  At the end, you'll get to see your neural network's predictions on the sample images.\n",
        "## Get the Data\n",
        "Run the following cell to download the [CIFAR-10 dataset for python](https://www.cs.toronto.edu/~kriz/cifar-10-python.tar.gz)."
      ]
    },
    {
      "metadata": {
        "id": "DTEt0PBGjK8Q",
        "colab_type": "code",
        "colab": {
          "autoexec": {
            "startup": false,
            "wait_interval": 0
          },
          "output_extras": [
            {
              "item_id": 10
            }
          ],
          "base_uri": "https://localhost:8080/",
          "height": 204
        },
        "outputId": "e6ddfa79-acdc-43ee-8fe9-44a0e056859a",
        "executionInfo": {
          "status": "ok",
          "timestamp": 1517995128433,
          "user_tz": -120,
          "elapsed": 6392,
          "user": {
            "displayName": "Mohamed Elzarei",
            "photoUrl": "//lh3.googleusercontent.com/-9PR94pOwOSg/AAAAAAAAAAI/AAAAAAAAB2E/BEprUUQJxXQ/s50-c-k-no/photo.jpg",
            "userId": "116813287638059514037"
          }
        }
      },
      "cell_type": "code",
      "source": [
        "!pip install -U tqdm\n",
        "!rm -rf deep-learning\n",
        "!git clone https://github.com/udacity/deep-learning.git\n",
        "!cd deep-learning/image-classification && mv *.py ./../.."
      ],
      "execution_count": 1,
      "outputs": [
        {
          "output_type": "stream",
          "text": [
            "Collecting tqdm\n",
            "  Downloading tqdm-4.19.5-py2.py3-none-any.whl (51kB)\n",
            "\u001b[K    100% |████████████████████████████████| 61kB 3.0MB/s \n",
            "\u001b[?25hInstalling collected packages: tqdm\n",
            "Successfully installed tqdm-4.19.5\n",
            "Cloning into 'deep-learning'...\n",
            "remote: Counting objects: 1353, done.\u001b[K\n",
            "remote: Compressing objects: 100% (3/3), done.\u001b[K\n",
            "remote: Total 1353 (delta 0), reused 0 (delta 0), pack-reused 1350\u001b[K\n",
            "Receiving objects: 100% (1353/1353), 45.65 MiB | 28.01 MiB/s, done.\n",
            "Resolving deltas: 100% (568/568), done.\n"
          ],
          "name": "stdout"
        }
      ]
    },
    {
      "metadata": {
        "id": "tZBujhBb-9rj",
        "colab_type": "code",
        "colab": {
          "autoexec": {
            "startup": false,
            "wait_interval": 0
          }
        }
      },
      "cell_type": "code",
      "source": [
        "from urllib.request import urlretrieve\n",
        "from os.path import isfile, isdir\n",
        "from tqdm import tqdm\n",
        "import problem_unittests as tests\n",
        "import tarfile\n",
        "import numpy as np"
      ],
      "execution_count": 0,
      "outputs": []
    },
    {
      "metadata": {
        "id": "WsOa4k39i282",
        "colab_type": "code",
        "colab": {
          "autoexec": {
            "startup": false,
            "wait_interval": 0
          },
          "output_extras": [
            {
              "item_id": 1
            }
          ],
          "base_uri": "https://localhost:8080/",
          "height": 34
        },
        "outputId": "88fe3dd4-f753-4d90-b22c-3fb70adbe68d",
        "executionInfo": {
          "status": "ok",
          "timestamp": 1518008352403,
          "user_tz": -120,
          "elapsed": 591,
          "user": {
            "displayName": "Mohamed Elzarei",
            "photoUrl": "//lh3.googleusercontent.com/-9PR94pOwOSg/AAAAAAAAAAI/AAAAAAAAB2E/BEprUUQJxXQ/s50-c-k-no/photo.jpg",
            "userId": "116813287638059514037"
          }
        }
      },
      "cell_type": "code",
      "source": [
        "cifar10_dataset_folder_path = 'cifar-10-batches-py'\n",
        "\n",
        "# Use Floyd's cifar-10 dataset if present\n",
        "floyd_cifar10_location = '/cifar/cifar-10-python.tar.gz'\n",
        "if isfile(floyd_cifar10_location):\n",
        "    tar_gz_path = floyd_cifar10_location\n",
        "else:\n",
        "    tar_gz_path = 'cifar-10-python.tar.gz'\n",
        "\n",
        "class DLProgress(tqdm):\n",
        "    last_block = 0\n",
        "\n",
        "    def hook(self, block_num=1, block_size=1, total_size=None):\n",
        "        self.total = total_size\n",
        "        self.update((block_num - self.last_block) * block_size)\n",
        "        self.last_block = block_num\n",
        "\n",
        "if not isfile(tar_gz_path):\n",
        "    with DLProgress(unit='B', unit_scale=True, miniters=1, desc='CIFAR-10 Dataset') as pbar:\n",
        "        urlretrieve(\n",
        "            'https://www.cs.toronto.edu/~kriz/cifar-10-python.tar.gz',\n",
        "            tar_gz_path,\n",
        "            pbar.hook)\n",
        "\n",
        "if not isdir(cifar10_dataset_folder_path):\n",
        "    with tarfile.open(tar_gz_path) as tar:\n",
        "        tar.extractall()\n",
        "        tar.close()\n",
        "\n",
        "\n",
        "tests.test_folder_path(cifar10_dataset_folder_path)"
      ],
      "execution_count": 37,
      "outputs": [
        {
          "output_type": "stream",
          "text": [
            "All files found!\n"
          ],
          "name": "stdout"
        }
      ]
    },
    {
      "metadata": {
        "id": "wJQiZIR5i285",
        "colab_type": "text"
      },
      "cell_type": "markdown",
      "source": [
        "## Explore the Data\n",
        "The dataset is broken into batches to prevent your machine from running out of memory.  The CIFAR-10 dataset consists of 5 batches, named `data_batch_1`, `data_batch_2`, etc.. Each batch contains the labels and images that are one of the following:\n",
        "* airplane\n",
        "* automobile\n",
        "* bird\n",
        "* cat\n",
        "* deer\n",
        "* dog\n",
        "* frog\n",
        "* horse\n",
        "* ship\n",
        "* truck\n",
        "\n",
        "Understanding a dataset is part of making predictions on the data.  Play around with the code cell below by changing the `batch_id` and `sample_id`. The `batch_id` is the id for a batch (1-5). The `sample_id` is the id for a image and label pair in the batch.\n",
        "\n",
        "Ask yourself \"What are all possible labels?\", \"What is the range of values for the image data?\", \"Are the labels in order or random?\".  Answers to questions like these will help you preprocess the data and end up with better predictions."
      ]
    },
    {
      "metadata": {
        "id": "CphlwjVGi285",
        "colab_type": "code",
        "colab": {
          "autoexec": {
            "startup": false,
            "wait_interval": 0
          },
          "output_extras": [
            {
              "item_id": 1
            },
            {
              "item_id": 2
            }
          ],
          "base_uri": "https://localhost:8080/",
          "height": 435
        },
        "outputId": "41965918-2089-4b4a-ecb7-14e87d34a1eb",
        "executionInfo": {
          "status": "ok",
          "timestamp": 1518007117952,
          "user_tz": -120,
          "elapsed": 677,
          "user": {
            "displayName": "Mohamed Elzarei",
            "photoUrl": "//lh3.googleusercontent.com/-9PR94pOwOSg/AAAAAAAAAAI/AAAAAAAAB2E/BEprUUQJxXQ/s50-c-k-no/photo.jpg",
            "userId": "116813287638059514037"
          }
        }
      },
      "cell_type": "code",
      "source": [
        "%matplotlib inline\n",
        "%config InlineBackend.figure_format = 'retina'\n",
        "\n",
        "import helper\n",
        "\n",
        "# Explore the dataset\n",
        "batch_id = 1\n",
        "sample_id = 5\n",
        "helper.display_stats(cifar10_dataset_folder_path, batch_id, sample_id)"
      ],
      "execution_count": 3,
      "outputs": [
        {
          "output_type": "stream",
          "text": [
            "\n",
            "Stats of batch 1:\n",
            "Samples: 10000\n",
            "Label Counts: {0: 1005, 1: 974, 2: 1032, 3: 1016, 4: 999, 5: 937, 6: 1030, 7: 1001, 8: 1025, 9: 981}\n",
            "First 20 Labels: [6, 9, 9, 4, 1, 1, 2, 7, 8, 3, 4, 7, 7, 2, 9, 9, 9, 3, 2, 6]\n",
            "\n",
            "Example of Image 5:\n",
            "Image - Min Value: 0 Max Value: 252\n",
            "Image - Shape: (32, 32, 3)\n",
            "Label - Label Id: 1 Name: automobile\n"
          ],
          "name": "stdout"
        },
        {
          "output_type": "display_data",
          "data": {
            "image/png": "[encoded data removed]",
            "text/plain": [
              "<matplotlib.figure.Figure at 0x7f0b1a3bd128>"
            ]
          },
          "metadata": {
            "tags": [],
            "image/png": {
              "width": 249,
              "height": 248
            }
          }
        }
      ]
    },
    {
      "metadata": {
        "id": "JdqzNLvMi287",
        "colab_type": "text"
      },
      "cell_type": "markdown",
      "source": [
        "## Implement Preprocess Functions\n",
        "### Normalize\n",
        "In the cell below, implement the `normalize` function to take in image data, `x`, and return it as a normalized Numpy array. The values should be in the range of 0 to 1, inclusive.  The return object should be the same shape as `x`."
      ]
    },
    {
      "metadata": {
        "id": "7BNcWsKAi288",
        "colab_type": "code",
        "colab": {
          "autoexec": {
            "startup": false,
            "wait_interval": 0
          },
          "output_extras": [
            {
              "item_id": 1
            }
          ],
          "base_uri": "https://localhost:8080/",
          "height": 34
        },
        "outputId": "af1f36e4-7b25-40f4-ba98-2a0cd3de5eaa",
        "executionInfo": {
          "status": "ok",
          "timestamp": 1518007120129,
          "user_tz": -120,
          "elapsed": 882,
          "user": {
            "displayName": "Mohamed Elzarei",
            "photoUrl": "//lh3.googleusercontent.com/-9PR94pOwOSg/AAAAAAAAAAI/AAAAAAAAB2E/BEprUUQJxXQ/s50-c-k-no/photo.jpg",
            "userId": "116813287638059514037"
          }
        }
      },
      "cell_type": "code",
      "source": [
        "def normalize(x):\n",
        "    \"\"\"\n",
        "    Normalize a list of sample image data in the range of 0 to 1\n",
        "    : x: List of image data.  The image shape is (32, 32, 3)\n",
        "    : return: Numpy array of normalize data\n",
        "    \"\"\"\n",
        "    return (x - x.min()) / (x.max() - x.min())\n",
        "\n",
        "tests.test_normalize(normalize)"
      ],
      "execution_count": 4,
      "outputs": [
        {
          "output_type": "stream",
          "text": [
            "Tests Passed\n"
          ],
          "name": "stdout"
        }
      ]
    },
    {
      "metadata": {
        "id": "yAt_pgQui28-",
        "colab_type": "text"
      },
      "cell_type": "markdown",
      "source": [
        "### One-hot encode\n",
        "Just like the previous code cell, you'll be implementing a function for preprocessing.  This time, you'll implement the `one_hot_encode` function. The input, `x`, are a list of labels.  Implement the function to return the list of labels as One-Hot encoded Numpy array.  The possible values for labels are 0 to 9. The one-hot encoding function should return the same encoding for each value between each call to `one_hot_encode`.  Make sure to save the map of encodings outside the function.\n",
        "\n",
        "Hint: Don't reinvent the wheel."
      ]
    },
    {
      "metadata": {
        "id": "22YWpjr8i28_",
        "colab_type": "code",
        "colab": {
          "autoexec": {
            "startup": false,
            "wait_interval": 0
          },
          "output_extras": [
            {
              "item_id": 1
            }
          ],
          "base_uri": "https://localhost:8080/",
          "height": 34
        },
        "outputId": "d8027784-e1c1-49b3-d7c6-61d7a664a868",
        "executionInfo": {
          "status": "ok",
          "timestamp": 1518007121263,
          "user_tz": -120,
          "elapsed": 681,
          "user": {
            "displayName": "Mohamed Elzarei",
            "photoUrl": "//lh3.googleusercontent.com/-9PR94pOwOSg/AAAAAAAAAAI/AAAAAAAAB2E/BEprUUQJxXQ/s50-c-k-no/photo.jpg",
            "userId": "116813287638059514037"
          }
        }
      },
      "cell_type": "code",
      "source": [
        "def one_hot_encode(x):\n",
        "    \"\"\"\n",
        "    One hot encode a list of sample labels. Return a one-hot encoded vector for each label.\n",
        "    : x: List of sample Labels\n",
        "    : return: Numpy array of one-hot encoded labels\n",
        "    \"\"\"\n",
        "    # https://www.reddit.com/r/MachineLearning/comments/31fk7i/converting_target_indices_to_onehotvector/\n",
        "    return np.eye(10)[[x]]\n",
        "\n",
        "\n",
        "\"\"\"\n",
        "DON'T MODIFY ANYTHING IN THIS CELL THAT IS BELOW THIS LINE\n",
        "\"\"\"\n",
        "tests.test_one_hot_encode(one_hot_encode)"
      ],
      "execution_count": 5,
      "outputs": [
        {
          "output_type": "stream",
          "text": [
            "Tests Passed\n"
          ],
          "name": "stdout"
        }
      ]
    },
    {
      "metadata": {
        "id": "ODHcCohgi29A",
        "colab_type": "text"
      },
      "cell_type": "markdown",
      "source": [
        "### Randomize Data\n",
        "As you saw from exploring the data above, the order of the samples are randomized.  It doesn't hurt to randomize it again, but you don't need to for this dataset."
      ]
    },
    {
      "metadata": {
        "id": "klCH52Xni29B",
        "colab_type": "text"
      },
      "cell_type": "markdown",
      "source": [
        "## Preprocess all the data and save it\n",
        "Running the code cell below will preprocess all the CIFAR-10 data and save it to file. The code below also uses 10% of the training data for validation."
      ]
    },
    {
      "metadata": {
        "id": "myFgwX6vi29C",
        "colab_type": "code",
        "colab": {
          "autoexec": {
            "startup": false,
            "wait_interval": 0
          }
        }
      },
      "cell_type": "code",
      "source": [
        "\"\"\"\n",
        "DON'T MODIFY ANYTHING IN THIS CELL\n",
        "\"\"\"\n",
        "# Preprocess Training, Validation, and Testing Data\n",
        "helper.preprocess_and_save_data(cifar10_dataset_folder_path, normalize, one_hot_encode)"
      ],
      "execution_count": 0,
      "outputs": []
    },
    {
      "metadata": {
        "id": "bM2joxJGi29E",
        "colab_type": "text"
      },
      "cell_type": "markdown",
      "source": [
        "# Check Point\n",
        "This is your first checkpoint.  If you ever decide to come back to this notebook or have to restart the notebook, you can start from here.  The preprocessed data has been saved to disk."
      ]
    },
    {
      "metadata": {
        "id": "YcYCgZfRi29E",
        "colab_type": "code",
        "colab": {
          "autoexec": {
            "startup": false,
            "wait_interval": 0
          }
        }
      },
      "cell_type": "code",
      "source": [
        "\"\"\"\n",
        "DON'T MODIFY ANYTHING IN THIS CELL\n",
        "\"\"\"\n",
        "import pickle\n",
        "import problem_unittests as tests\n",
        "import helper\n",
        "\n",
        "# Load the Preprocessed Validation data\n",
        "valid_features, valid_labels = pickle.load(open('preprocess_validation.p', mode='rb'))"
      ],
      "execution_count": 0,
      "outputs": []
    },
    {
      "metadata": {
        "id": "TPD7Vgm6i29H",
        "colab_type": "text"
      },
      "cell_type": "markdown",
      "source": [
        "## Build the network\n",
        "\n",
        "### Input\n",
        "The neural network needs to read the image data, one-hot encoded labels, and dropout keep probability. Implement the following functions\n",
        "* Implement `neural_net_image_input`\n",
        " * Return a [TF Placeholder](https://www.tensorflow.org/api_docs/python/tf/placeholder)\n",
        " * Set the shape using `image_shape` with batch size set to `None`.\n",
        " * Name the TensorFlow placeholder \"x\" using the TensorFlow `name` parameter in the [TF Placeholder](https://www.tensorflow.org/api_docs/python/tf/placeholder).\n",
        "* Implement `neural_net_label_input`\n",
        " * Return a [TF Placeholder](https://www.tensorflow.org/api_docs/python/tf/placeholder)\n",
        " * Set the shape using `n_classes` with batch size set to `None`.\n",
        " * Name the TensorFlow placeholder \"y\" using the TensorFlow `name` parameter in the [TF Placeholder](https://www.tensorflow.org/api_docs/python/tf/placeholder).\n",
        "* Implement `neural_net_keep_prob_input`\n",
        " * Return a [TF Placeholder](https://www.tensorflow.org/api_docs/python/tf/placeholder) for dropout keep probability.\n",
        " * Name the TensorFlow placeholder \"keep_prob\" using the TensorFlow `name` parameter in the [TF Placeholder](https://www.tensorflow.org/api_docs/python/tf/placeholder).\n",
        "\n",
        "These names will be used at the end of the project to load your saved model.\n",
        "\n",
        "Note: `None` for shapes in TensorFlow allow for a dynamic size."
      ]
    },
    {
      "metadata": {
        "id": "BaVA6rW4i29I",
        "colab_type": "code",
        "colab": {
          "autoexec": {
            "startup": false,
            "wait_interval": 0
          },
          "output_extras": [
            {
              "item_id": 1
            }
          ],
          "base_uri": "https://localhost:8080/",
          "height": 68
        },
        "outputId": "1a68861f-a61d-4d27-d125-fea6278b2b2c",
        "executionInfo": {
          "status": "ok",
          "timestamp": 1518008361681,
          "user_tz": -120,
          "elapsed": 664,
          "user": {
            "displayName": "Mohamed Elzarei",
            "photoUrl": "//lh3.googleusercontent.com/-9PR94pOwOSg/AAAAAAAAAAI/AAAAAAAAB2E/BEprUUQJxXQ/s50-c-k-no/photo.jpg",
            "userId": "116813287638059514037"
          }
        }
      },
      "cell_type": "code",
      "source": [
        "import tensorflow as tf\n",
        "\n",
        "def neural_net_image_input(image_shape):\n",
        "    \"\"\"\n",
        "    Return a Tensor for a batch of image input\n",
        "    : image_shape: Shape of the images\n",
        "    : return: Tensor for image input.\n",
        "    \"\"\"\n",
        "    w, h, c = image_shape\n",
        "    return tf.placeholder(tf.float32, shape=(None, w, h, c), name='x')\n",
        "\n",
        "\n",
        "def neural_net_label_input(n_classes):\n",
        "    \"\"\"\n",
        "    Return a Tensor for a batch of label input\n",
        "    : n_classes: Number of classes\n",
        "    : return: Tensor for label input.\n",
        "    \"\"\"\n",
        "    # TODO: Implement Function\n",
        "    return tf.placeholder(tf.int32, shape=(None, n_classes), name='y')\n",
        "\n",
        "\n",
        "def neural_net_keep_prob_input():\n",
        "    \"\"\"\n",
        "    Return a Tensor for keep probability\n",
        "    : return: Tensor for keep probability.\n",
        "    \"\"\"\n",
        "    return tf.placeholder(tf.float32, name='keep_prob')\n",
        "\n",
        "\n",
        "\"\"\"\n",
        "DON'T MODIFY ANYTHING IN THIS CELL THAT IS BELOW THIS LINE\n",
        "\"\"\"\n",
        "tf.reset_default_graph()\n",
        "tests.test_nn_image_inputs(neural_net_image_input)\n",
        "tests.test_nn_label_inputs(neural_net_label_input)\n",
        "tests.test_nn_keep_prob_inputs(neural_net_keep_prob_input)"
      ],
      "execution_count": 39,
      "outputs": [
        {
          "output_type": "stream",
          "text": [
            "Image Input Tests Passed.\n",
            "Label Input Tests Passed.\n",
            "Keep Prob Tests Passed.\n"
          ],
          "name": "stdout"
        }
      ]
    },
    {
      "metadata": {
        "id": "e9Utzf8Fi29M",
        "colab_type": "text"
      },
      "cell_type": "markdown",
      "source": [
        "### Convolution and Max Pooling Layer\n",
        "Convolution layers have a lot of success with images. For this code cell, you should implement the function `conv2d_maxpool` to apply convolution then max pooling:\n",
        "* Create the weight and bias using `conv_ksize`, `conv_num_outputs` and the shape of `x_tensor`.\n",
        "* Apply a convolution to `x_tensor` using weight and `conv_strides`.\n",
        " * We recommend you use same padding, but you're welcome to use any padding.\n",
        "* Add bias\n",
        "* Add a nonlinear activation to the convolution.\n",
        "* Apply Max Pooling using `pool_ksize` and `pool_strides`.\n",
        " * We recommend you use same padding, but you're welcome to use any padding.\n",
        "\n",
        "**Note:** You **can't** use [TensorFlow Layers](https://www.tensorflow.org/api_docs/python/tf/layers) or [TensorFlow Layers (contrib)](https://www.tensorflow.org/api_guides/python/contrib.layers) for **this** layer, but you can still use TensorFlow's [Neural Network](https://www.tensorflow.org/api_docs/python/tf/nn) package. You may still use the shortcut option for all the **other** layers."
      ]
    },
    {
      "metadata": {
        "id": "OZDUGFUIi29N",
        "colab_type": "code",
        "colab": {
          "autoexec": {
            "startup": false,
            "wait_interval": 0
          },
          "output_extras": [
            {
              "item_id": 1
            }
          ],
          "base_uri": "https://localhost:8080/",
          "height": 34
        },
        "outputId": "766d4bac-ef43-4565-d4c3-912f509f5b1c",
        "executionInfo": {
          "status": "ok",
          "timestamp": 1518008362893,
          "user_tz": -120,
          "elapsed": 723,
          "user": {
            "displayName": "Mohamed Elzarei",
            "photoUrl": "//lh3.googleusercontent.com/-9PR94pOwOSg/AAAAAAAAAAI/AAAAAAAAB2E/BEprUUQJxXQ/s50-c-k-no/photo.jpg",
            "userId": "116813287638059514037"
          }
        }
      },
      "cell_type": "code",
      "source": [
        "def conv2d_maxpool(x_tensor, conv_num_outputs, conv_ksize, conv_strides, pool_ksize, pool_strides):\n",
        "    \"\"\"\n",
        "    Apply convolution then max pooling to x_tensor\n",
        "    :param x_tensor: TensorFlow Tensor\n",
        "    :param conv_num_outputs: Number of outputs for the convolutional layer\n",
        "    :param conv_ksize: kernal size 2-D Tuple for the convolutional layer\n",
        "    :param conv_strides: Stride 2-D Tuple for convolution\n",
        "    :param pool_ksize: kernal size 2-D Tuple for pool\n",
        "    :param pool_strides: Stride 2-D Tuple for pool\n",
        "    : return: A tensor that represents convolution and max pooling of x_tensor\n",
        "    \"\"\"\n",
        "    f_shp = (conv_ksize[0], conv_ksize[1], x_tensor.get_shape()[-1].value, conv_num_outputs)\n",
        "    cnv_f = tf.Variable(tf.truncated_normal(shape=(f_shp), stddev=.1 ))\n",
        "    cnv_s = [1, conv_strides[0], conv_strides[1], 1]\n",
        "    cnv_l = tf.nn.conv2d(x_tensor, cnv_f, cnv_s, padding='SAME')\n",
        "    cnv_l = tf.nn.relu(cnv_l)\n",
        "    \n",
        "    pool_l = tf.nn.max_pool(cnv_l, ksize=[1, pool_ksize[0], pool_ksize[1], 1],\n",
        "                          strides=[1, pool_strides[0], pool_strides[1], 1],\n",
        "                          padding='VALID')\n",
        "    return pool_l\n",
        "\n",
        "\n",
        "\"\"\"\n",
        "DON'T MODIFY ANYTHING IN THIS CELL THAT IS BELOW THIS LINE\n",
        "\"\"\"\n",
        "tests.test_con_pool(conv2d_maxpool)"
      ],
      "execution_count": 40,
      "outputs": [
        {
          "output_type": "stream",
          "text": [
            "Tests Passed\n"
          ],
          "name": "stdout"
        }
      ]
    },
    {
      "metadata": {
        "id": "7vRKuDZai29R",
        "colab_type": "text"
      },
      "cell_type": "markdown",
      "source": [
        "### Flatten Layer\n",
        "Implement the `flatten` function to change the dimension of `x_tensor` from a 4-D tensor to a 2-D tensor.  The output should be the shape (*Batch Size*, *Flattened Image Size*). Shortcut option: you can use classes from the [TensorFlow Layers](https://www.tensorflow.org/api_docs/python/tf/layers) or [TensorFlow Layers (contrib)](https://www.tensorflow.org/api_guides/python/contrib.layers) packages for this layer. For more of a challenge, only use other TensorFlow packages."
      ]
    },
    {
      "metadata": {
        "id": "TV3AODPdi29S",
        "colab_type": "code",
        "colab": {
          "autoexec": {
            "startup": false,
            "wait_interval": 0
          },
          "output_extras": [
            {
              "item_id": 1
            }
          ],
          "base_uri": "https://localhost:8080/",
          "height": 34
        },
        "outputId": "1199c61b-5f02-4c98-b4a1-86de42da4e7b",
        "executionInfo": {
          "status": "ok",
          "timestamp": 1518008364258,
          "user_tz": -120,
          "elapsed": 920,
          "user": {
            "displayName": "Mohamed Elzarei",
            "photoUrl": "//lh3.googleusercontent.com/-9PR94pOwOSg/AAAAAAAAAAI/AAAAAAAAB2E/BEprUUQJxXQ/s50-c-k-no/photo.jpg",
            "userId": "116813287638059514037"
          }
        }
      },
      "cell_type": "code",
      "source": [
        "def flatten(x_tensor):\n",
        "    \"\"\"\n",
        "    Flatten x_tensor to (Batch Size, Flattened Image Size)\n",
        "    : x_tensor: A tensor of size (Batch Size, ...), where ... are the image dimensions.\n",
        "    : return: A tensor of size (Batch Size, Flattened Image Size).\n",
        "    \"\"\"\n",
        "    # TODO: Implement Function\n",
        "    tensor_shape = x_tensor.get_shape().as_list()\n",
        "    return tf.reshape(x_tensor, (tf.shape(x_tensor)[0], np.prod(tensor_shape[1:])))\n",
        "\n",
        "\n",
        "\"\"\"\n",
        "DON'T MODIFY ANYTHING IN THIS CELL THAT IS BELOW THIS LINE\n",
        "\"\"\"\n",
        "tests.test_flatten(flatten)"
      ],
      "execution_count": 41,
      "outputs": [
        {
          "output_type": "stream",
          "text": [
            "Tests Passed\n"
          ],
          "name": "stdout"
        }
      ]
    },
    {
      "metadata": {
        "id": "N2-TBiali29V",
        "colab_type": "text"
      },
      "cell_type": "markdown",
      "source": [
        "### Fully-Connected Layer\n",
        "Implement the `fully_conn` function to apply a fully connected layer to `x_tensor` with the shape (*Batch Size*, *num_outputs*). Shortcut option: you can use classes from the [TensorFlow Layers](https://www.tensorflow.org/api_docs/python/tf/layers) or [TensorFlow Layers (contrib)](https://www.tensorflow.org/api_guides/python/contrib.layers) packages for this layer. For more of a challenge, only use other TensorFlow packages."
      ]
    },
    {
      "metadata": {
        "id": "elfnyL5ei29W",
        "colab_type": "code",
        "colab": {
          "autoexec": {
            "startup": false,
            "wait_interval": 0
          },
          "output_extras": [
            {
              "item_id": 1
            }
          ],
          "base_uri": "https://localhost:8080/",
          "height": 34
        },
        "outputId": "bebdf891-5003-4e19-d32a-88fb9e9a34d4",
        "executionInfo": {
          "status": "ok",
          "timestamp": 1518008365172,
          "user_tz": -120,
          "elapsed": 560,
          "user": {
            "displayName": "Mohamed Elzarei",
            "photoUrl": "//lh3.googleusercontent.com/-9PR94pOwOSg/AAAAAAAAAAI/AAAAAAAAB2E/BEprUUQJxXQ/s50-c-k-no/photo.jpg",
            "userId": "116813287638059514037"
          }
        }
      },
      "cell_type": "code",
      "source": [
        "def fully_conn(x_tensor, num_outputs):\n",
        "    \"\"\"\n",
        "    Apply a fully connected layer to x_tensor using weight and bias\n",
        "    : x_tensor: A 2-D tensor where the first dimension is batch size.\n",
        "    : num_outputs: The number of output that the new tensor should be.\n",
        "    : return: A 2-D tensor where the second dimension is num_outputs.\n",
        "    \"\"\"\n",
        "    prev_shape = x_tensor.get_shape()[1].value\n",
        "    W = tf.Variable(tf.truncated_normal(shape=(prev_shape, num_outputs), stddev=.1 ))\n",
        "    b = tf.zeros(shape=(num_outputs,))\n",
        "    mul = tf.matmul(x_tensor, W)\n",
        "    fully_conn_layer = tf.nn.bias_add(mul, b)\n",
        "    return tf.nn.relu(fully_conn_layer)\n",
        "\n",
        "\n",
        "\"\"\"\n",
        "DON'T MODIFY ANYTHING IN THIS CELL THAT IS BELOW THIS LINE\n",
        "\"\"\"\n",
        "tests.test_fully_conn(fully_conn)"
      ],
      "execution_count": 42,
      "outputs": [
        {
          "output_type": "stream",
          "text": [
            "Tests Passed\n"
          ],
          "name": "stdout"
        }
      ]
    },
    {
      "metadata": {
        "id": "rOBTlutdi29Y",
        "colab_type": "text"
      },
      "cell_type": "markdown",
      "source": [
        "### Output Layer\n",
        "Implement the `output` function to apply a fully connected layer to `x_tensor` with the shape (*Batch Size*, *num_outputs*). Shortcut option: you can use classes from the [TensorFlow Layers](https://www.tensorflow.org/api_docs/python/tf/layers) or [TensorFlow Layers (contrib)](https://www.tensorflow.org/api_guides/python/contrib.layers) packages for this layer. For more of a challenge, only use other TensorFlow packages.\n",
        "\n",
        "**Note:** Activation, softmax, or cross entropy should **not** be applied to this."
      ]
    },
    {
      "metadata": {
        "id": "on-xakffi29Z",
        "colab_type": "code",
        "colab": {
          "autoexec": {
            "startup": false,
            "wait_interval": 0
          },
          "output_extras": [
            {
              "item_id": 1
            }
          ],
          "base_uri": "https://localhost:8080/",
          "height": 34
        },
        "outputId": "e042a711-1f72-429b-e968-0f4954e19a59",
        "executionInfo": {
          "status": "ok",
          "timestamp": 1518008366302,
          "user_tz": -120,
          "elapsed": 614,
          "user": {
            "displayName": "Mohamed Elzarei",
            "photoUrl": "//lh3.googleusercontent.com/-9PR94pOwOSg/AAAAAAAAAAI/AAAAAAAAB2E/BEprUUQJxXQ/s50-c-k-no/photo.jpg",
            "userId": "116813287638059514037"
          }
        }
      },
      "cell_type": "code",
      "source": [
        "def output(x_tensor, num_outputs):\n",
        "    \"\"\"\n",
        "    Apply a output layer to x_tensor using weight and bias\n",
        "    : x_tensor: A 2-D tensor where the first dimension is batch size.\n",
        "    : num_outputs: The number of output that the new tensor should be.\n",
        "    : return: A 2-D tensor where the second dimension is num_outputs.\n",
        "    \"\"\"\n",
        "    prev_shape = x_tensor.get_shape()[1].value\n",
        "    W = tf.Variable(tf.truncated_normal(shape=(prev_shape, num_outputs), stddev=.1 ))\n",
        "    b = tf.zeros(shape=(num_outputs,))\n",
        "    mul = tf.matmul(x_tensor, W)\n",
        "    return tf.nn.bias_add(mul, b)\n",
        "\n",
        "\n",
        "\"\"\"\n",
        "DON'T MODIFY ANYTHING IN THIS CELL THAT IS BELOW THIS LINE\n",
        "\"\"\"\n",
        "tests.test_output(output)"
      ],
      "execution_count": 43,
      "outputs": [
        {
          "output_type": "stream",
          "text": [
            "Tests Passed\n"
          ],
          "name": "stdout"
        }
      ]
    },
    {
      "metadata": {
        "id": "NBviIjsji29b",
        "colab_type": "text"
      },
      "cell_type": "markdown",
      "source": [
        "### Create Convolutional Model\n",
        "Implement the function `conv_net` to create a convolutional neural network model. The function takes in a batch of images, `x`, and outputs logits.  Use the layers you created above to create this model:\n",
        "\n",
        "* Apply 1, 2, or 3 Convolution and Max Pool layers\n",
        "* Apply a Flatten Layer\n",
        "* Apply 1, 2, or 3 Fully Connected Layers\n",
        "* Apply an Output Layer\n",
        "* Return the output\n",
        "* Apply [TensorFlow's Dropout](https://www.tensorflow.org/api_docs/python/tf/nn/dropout) to one or more layers in the model using `keep_prob`. "
      ]
    },
    {
      "metadata": {
        "id": "_3fSoq-Fi29d",
        "colab_type": "code",
        "colab": {
          "autoexec": {
            "startup": false,
            "wait_interval": 0
          },
          "output_extras": [
            {
              "item_id": 1
            }
          ],
          "base_uri": "https://localhost:8080/",
          "height": 34
        },
        "outputId": "2bbc653f-262c-44a6-cb5c-d3d5530fa926",
        "executionInfo": {
          "status": "ok",
          "timestamp": 1518008368213,
          "user_tz": -120,
          "elapsed": 606,
          "user": {
            "displayName": "Mohamed Elzarei",
            "photoUrl": "//lh3.googleusercontent.com/-9PR94pOwOSg/AAAAAAAAAAI/AAAAAAAAB2E/BEprUUQJxXQ/s50-c-k-no/photo.jpg",
            "userId": "116813287638059514037"
          }
        }
      },
      "cell_type": "code",
      "source": [
        "def conv_net(x, keep_prob):\n",
        "  \"\"\"\n",
        "  Create a convolutional neural network model\n",
        "  : x: Placeholder tensor that holds image data.\n",
        "  : keep_prob: Placeholder tensor that hold dropout keep probability.\n",
        "  : return: Tensor that represents logits\n",
        "  \"\"\"\n",
        "  model = conv2d_maxpool(x, 16, conv_ksize=(3, 3), conv_strides=(1, 1), pool_ksize=(2, 2), pool_strides=(1, 1))\n",
        "  model = conv2d_maxpool(model, 32, conv_ksize=(3, 3), conv_strides=(1, 1), pool_ksize=(2, 2), pool_strides=(1, 1))\n",
        "  model = conv2d_maxpool(model, 64, conv_ksize=(3, 3), conv_strides=(1, 1), pool_ksize=(2, 2), pool_strides=(1, 1))\n",
        "  model = flatten(model)\n",
        "  \n",
        "  model = fully_conn(model, 256)\n",
        "  model = tf.nn.dropout(model, keep_prob)\n",
        "  \n",
        "  model = output(model, 10)\n",
        "  \n",
        "  return model\n",
        "\n",
        "\n",
        "\"\"\"\n",
        "DON'T MODIFY ANYTHING IN THIS CELL THAT IS BELOW THIS LINE\n",
        "\"\"\"\n",
        "\n",
        "##############################\n",
        "## Build the Neural Network ##\n",
        "##############################\n",
        "\n",
        "# Remove previous weights, bias, inputs, etc..\n",
        "tf.reset_default_graph()\n",
        "\n",
        "# Inputs\n",
        "x = neural_net_image_input((32, 32, 3))\n",
        "y = neural_net_label_input(10)\n",
        "keep_prob = neural_net_keep_prob_input()\n",
        "\n",
        "# Model\n",
        "logits = conv_net(x, keep_prob)\n",
        "\n",
        "# Name logits Tensor, so that is can be loaded from disk after training\n",
        "logits = tf.identity(logits, name='logits')\n",
        "\n",
        "# Loss and Optimizer\n",
        "cost = tf.reduce_mean(tf.nn.softmax_cross_entropy_with_logits(logits=logits, labels=y))\n",
        "optimizer = tf.train.AdamOptimizer().minimize(cost)\n",
        "\n",
        "# Accuracy\n",
        "correct_pred = tf.equal(tf.argmax(logits, 1), tf.argmax(y, 1))\n",
        "accuracy = tf.reduce_mean(tf.cast(correct_pred, tf.float32), name='accuracy')\n",
        "\n",
        "tests.test_conv_net(conv_net)"
      ],
      "execution_count": 44,
      "outputs": [
        {
          "output_type": "stream",
          "text": [
            "Neural Network Built!\n"
          ],
          "name": "stdout"
        }
      ]
    },
    {
      "metadata": {
        "id": "eaJNN8Fri29g",
        "colab_type": "text"
      },
      "cell_type": "markdown",
      "source": [
        "## Train the Neural Network\n",
        "### Single Optimization\n",
        "Implement the function `train_neural_network` to do a single optimization.  The optimization should use `optimizer` to optimize in `session` with a `feed_dict` of the following:\n",
        "* `x` for image input\n",
        "* `y` for labels\n",
        "* `keep_prob` for keep probability for dropout\n",
        "\n",
        "This function will be called for each batch, so `tf.global_variables_initializer()` has already been called.\n",
        "\n",
        "Note: Nothing needs to be returned. This function is only optimizing the neural network."
      ]
    },
    {
      "metadata": {
        "id": "6yDAF4W8i29h",
        "colab_type": "code",
        "colab": {
          "autoexec": {
            "startup": false,
            "wait_interval": 0
          },
          "output_extras": [
            {
              "item_id": 1
            }
          ],
          "base_uri": "https://localhost:8080/",
          "height": 34
        },
        "outputId": "455109e9-739b-4afb-d310-0946817e4697",
        "executionInfo": {
          "status": "ok",
          "timestamp": 1518008370348,
          "user_tz": -120,
          "elapsed": 634,
          "user": {
            "displayName": "Mohamed Elzarei",
            "photoUrl": "//lh3.googleusercontent.com/-9PR94pOwOSg/AAAAAAAAAAI/AAAAAAAAB2E/BEprUUQJxXQ/s50-c-k-no/photo.jpg",
            "userId": "116813287638059514037"
          }
        }
      },
      "cell_type": "code",
      "source": [
        "def train_neural_network(sess, optimizer, keep_probability, feature_batch, label_batch):\n",
        "    \"\"\"\n",
        "    Optimize the session on a batch of images and labels\n",
        "    : session: Current TensorFlow session\n",
        "    : optimizer: TensorFlow optimizer function\n",
        "    : keep_probability: keep probability\n",
        "    : feature_batch: Batch of Numpy image data\n",
        "    : label_batch: Batch of Numpy label data\n",
        "    \"\"\"\n",
        "    sess.run([optimizer], feed_dict={\n",
        "        x:feature_batch,\n",
        "        y:label_batch,\n",
        "        keep_prob:keep_probability\n",
        "    })\n",
        "\n",
        "\n",
        "\"\"\"\n",
        "DON'T MODIFY ANYTHING IN THIS CELL THAT IS BELOW THIS LINE\n",
        "\"\"\"\n",
        "tests.test_train_nn(train_neural_network)"
      ],
      "execution_count": 45,
      "outputs": [
        {
          "output_type": "stream",
          "text": [
            "Tests Passed\n"
          ],
          "name": "stdout"
        }
      ]
    },
    {
      "metadata": {
        "id": "vAWgCNeji29j",
        "colab_type": "text"
      },
      "cell_type": "markdown",
      "source": [
        "### Show Stats\n",
        "Implement the function `print_stats` to print loss and validation accuracy.  Use the global variables `valid_features` and `valid_labels` to calculate validation accuracy.  Use a keep probability of `1.0` to calculate the loss and validation accuracy."
      ]
    },
    {
      "metadata": {
        "id": "vhaDzbKui29k",
        "colab_type": "code",
        "colab": {
          "autoexec": {
            "startup": false,
            "wait_interval": 0
          }
        }
      },
      "cell_type": "code",
      "source": [
        "def print_stats(sess, feature_batch, label_batch, cost, accuracy):\n",
        "    \"\"\"\n",
        "    Print information about loss and validation accuracy\n",
        "    : session: Current TensorFlow session\n",
        "    : feature_batch: Batch of Numpy image data\n",
        "    : label_batch: Batch of Numpy label data\n",
        "    : cost: TensorFlow cost function\n",
        "    : accuracy: TensorFlow accuracy function\n",
        "    \"\"\"\n",
        "    cost_train = sess.run([cost], feed_dict={\n",
        "        x: feature_batch,\n",
        "        y: label_batch,\n",
        "        keep_prob: 1.0\n",
        "    })\n",
        "    \n",
        "    acc_valid = sess.run([accuracy], feed_dict={\n",
        "        x: valid_features,\n",
        "        y: valid_labels,\n",
        "        keep_prob: 1.0\n",
        "    })\n",
        "    \n",
        "    print('Cost: {:5.3f}, Acc: {:5.3f}%'.format(cost_train[0], acc_valid[0] * 100))\n"
      ],
      "execution_count": 0,
      "outputs": []
    },
    {
      "metadata": {
        "id": "g-_Hy3RJi29m",
        "colab_type": "text"
      },
      "cell_type": "markdown",
      "source": [
        "### Hyperparameters\n",
        "Tune the following parameters:\n",
        "* Set `epochs` to the number of iterations until the network stops learning or start overfitting\n",
        "* Set `batch_size` to the highest number that your machine has memory for.  Most people set them to common sizes of memory:\n",
        " * 64\n",
        " * 128\n",
        " * 256\n",
        " * ...\n",
        "* Set `keep_probability` to the probability of keeping a node using dropout"
      ]
    },
    {
      "metadata": {
        "id": "iOs4NFOti29m",
        "colab_type": "code",
        "colab": {
          "autoexec": {
            "startup": false,
            "wait_interval": 0
          }
        }
      },
      "cell_type": "code",
      "source": [
        "epochs = 20\n",
        "batch_size = 128\n",
        "keep_probability = 0.5"
      ],
      "execution_count": 0,
      "outputs": []
    },
    {
      "metadata": {
        "id": "OC90hC6li29o",
        "colab_type": "text"
      },
      "cell_type": "markdown",
      "source": [
        "### Train on a Single CIFAR-10 Batch\n",
        "Instead of training the neural network on all the CIFAR-10 batches of data, let's use a single batch. This should save time while you iterate on the model to get a better accuracy.  Once the final validation accuracy is 50% or greater, run the model on all the data in the next section."
      ]
    },
    {
      "metadata": {
        "id": "7UhkRZLni29p",
        "colab_type": "code",
        "colab": {
          "autoexec": {
            "startup": false,
            "wait_interval": 0
          },
          "output_extras": [
            {
              "item_id": 33
            }
          ],
          "base_uri": "https://localhost:8080/",
          "height": 374
        },
        "outputId": "e8e033f3-244c-47f7-80b0-78914bf7a3bc",
        "executionInfo": {
          "status": "ok",
          "timestamp": 1518007900549,
          "user_tz": -120,
          "elapsed": 77672,
          "user": {
            "displayName": "Mohamed Elzarei",
            "photoUrl": "//lh3.googleusercontent.com/-9PR94pOwOSg/AAAAAAAAAAI/AAAAAAAAB2E/BEprUUQJxXQ/s50-c-k-no/photo.jpg",
            "userId": "116813287638059514037"
          }
        }
      },
      "cell_type": "code",
      "source": [
        "\"\"\"\n",
        "DON'T MODIFY ANYTHING IN THIS CELL\n",
        "\"\"\"\n",
        "print('Checking the Training on a Single Batch...')\n",
        "with tf.Session() as sess:\n",
        "    # Initializing the variables\n",
        "    sess.run(tf.global_variables_initializer())\n",
        "    \n",
        "    # Training cycle\n",
        "    for epoch in range(epochs):\n",
        "        batch_i = 1\n",
        "        for batch_features, batch_labels in helper.load_preprocess_training_batch(batch_i, batch_size):\n",
        "            train_neural_network(sess, optimizer, keep_probability, batch_features, batch_labels)\n",
        "        print('Epoch {:>2}, CIFAR-10 Batch {}:  '.format(epoch + 1, batch_i), end='')\n",
        "        print_stats(sess, batch_features, batch_labels, cost, accuracy)"
      ],
      "execution_count": 34,
      "outputs": [
        {
          "output_type": "stream",
          "text": [
            "Checking the Training on a Single Batch...\n",
            "Epoch  1, CIFAR-10 Batch 1:  Cost: 1.844, Acc: 39.700%\n",
            "Epoch  2, CIFAR-10 Batch 1:  Cost: 1.601, Acc: 45.540%\n",
            "Epoch  3, CIFAR-10 Batch 1:  Cost: 1.257, Acc: 51.420%\n",
            "Epoch  4, CIFAR-10 Batch 1:  Cost: 1.051, Acc: 51.740%\n",
            "Epoch  5, CIFAR-10 Batch 1:  Cost: 0.865, Acc: 53.500%\n",
            "Epoch  6, CIFAR-10 Batch 1:  Cost: 0.640, Acc: 55.600%\n",
            "Epoch  7, CIFAR-10 Batch 1:  Cost: 0.570, Acc: 58.260%\n",
            "Epoch  8, CIFAR-10 Batch 1:  Cost: 0.506, Acc: 57.760%\n",
            "Epoch  9, CIFAR-10 Batch 1:  Cost: 0.358, Acc: 57.880%\n",
            "Epoch 10, CIFAR-10 Batch 1:  Cost: 0.262, Acc: 59.200%\n",
            "Epoch 11, CIFAR-10 Batch 1:  Cost: 0.221, Acc: 59.340%\n",
            "Epoch 12, CIFAR-10 Batch 1:  Cost: 0.169, Acc: 59.580%\n",
            "Epoch 13, CIFAR-10 Batch 1:  Cost: 0.135, Acc: 58.320%\n",
            "Epoch 14, CIFAR-10 Batch 1:  Cost: 0.103, Acc: 59.000%\n",
            "Epoch 15, CIFAR-10 Batch 1:  Cost: 0.123, Acc: 55.560%\n",
            "Epoch 16, CIFAR-10 Batch 1:  Cost: 0.095, Acc: 58.660%\n",
            "Epoch 17, CIFAR-10 Batch 1:  Cost: 0.044, Acc: 59.080%\n",
            "Epoch 18, CIFAR-10 Batch 1:  Cost: 0.040, Acc: 58.780%\n",
            "Epoch 19, CIFAR-10 Batch 1:  Cost: 0.044, Acc: 57.660%\n",
            "Epoch 20, CIFAR-10 Batch 1:  Cost: 0.046, Acc: 58.360%\n"
          ],
          "name": "stdout"
        }
      ]
    },
    {
      "metadata": {
        "id": "N-NYloQTi29r",
        "colab_type": "text"
      },
      "cell_type": "markdown",
      "source": [
        "### Fully Train the Model\n",
        "Now that you got a good accuracy with a single CIFAR-10 batch, try it with all five batches."
      ]
    },
    {
      "metadata": {
        "id": "AghRaW5Hi29r",
        "colab_type": "code",
        "colab": {
          "autoexec": {
            "startup": false,
            "wait_interval": 0
          },
          "output_extras": [
            {
              "item_id": 62
            },
            {
              "item_id": 126
            },
            {
              "item_id": 153
            }
          ],
          "base_uri": "https://localhost:8080/",
          "height": 1734
        },
        "outputId": "047ba705-eba7-47c5-a596-3de912f7cc63",
        "executionInfo": {
          "status": "ok",
          "timestamp": 1518008761298,
          "user_tz": -120,
          "elapsed": 384060,
          "user": {
            "displayName": "Mohamed Elzarei",
            "photoUrl": "//lh3.googleusercontent.com/-9PR94pOwOSg/AAAAAAAAAAI/AAAAAAAAB2E/BEprUUQJxXQ/s50-c-k-no/photo.jpg",
            "userId": "116813287638059514037"
          }
        }
      },
      "cell_type": "code",
      "source": [
        "\"\"\"\n",
        "DON'T MODIFY ANYTHING IN THIS CELL\n",
        "\"\"\"\n",
        "save_model_path = './image_classification'\n",
        "\n",
        "print('Training...')\n",
        "with tf.Session() as sess:\n",
        "    # Initializing the variables\n",
        "    sess.run(tf.global_variables_initializer())\n",
        "    \n",
        "    # Training cycle\n",
        "    for epoch in range(epochs):\n",
        "        # Loop over all batches\n",
        "        n_batches = 5\n",
        "        for batch_i in range(1, n_batches + 1):\n",
        "            for batch_features, batch_labels in helper.load_preprocess_training_batch(batch_i, batch_size):\n",
        "                train_neural_network(sess, optimizer, keep_probability, batch_features, batch_labels)\n",
        "            print('Epoch {:>2}, CIFAR-10 Batch {}:  '.format(epoch + 1, batch_i), end='')\n",
        "            print_stats(sess, batch_features, batch_labels, cost, accuracy)\n",
        "            \n",
        "    # Save Model\n",
        "    saver = tf.train.Saver()\n",
        "    save_path = saver.save(sess, save_model_path)"
      ],
      "execution_count": 47,
      "outputs": [
        {
          "output_type": "stream",
          "text": [
            "Training...\n",
            "Epoch  1, CIFAR-10 Batch 1:  Cost: 1.925, Acc: 38.400%\n",
            "Epoch  1, CIFAR-10 Batch 2:  Cost: 1.557, Acc: 44.280%\n",
            "Epoch  1, CIFAR-10 Batch 3:  Cost: 1.268, Acc: 47.760%\n",
            "Epoch  1, CIFAR-10 Batch 4:  Cost: 1.346, Acc: 51.900%\n",
            "Epoch  1, CIFAR-10 Batch 5:  Cost: 1.264, Acc: 55.120%\n",
            "Epoch  2, CIFAR-10 Batch 1:  Cost: 1.371, Acc: 56.480%\n",
            "Epoch  2, CIFAR-10 Batch 2:  Cost: 1.021, Acc: 58.800%\n",
            "Epoch  2, CIFAR-10 Batch 3:  Cost: 0.834, Acc: 59.120%\n",
            "Epoch  2, CIFAR-10 Batch 4:  Cost: 1.034, Acc: 58.940%\n",
            "Epoch  2, CIFAR-10 Batch 5:  Cost: 0.908, Acc: 59.260%\n",
            "Epoch  3, CIFAR-10 Batch 1:  Cost: 0.992, Acc: 62.900%\n",
            "Epoch  3, CIFAR-10 Batch 2:  Cost: 0.793, Acc: 62.360%\n",
            "Epoch  3, CIFAR-10 Batch 3:  Cost: 0.621, Acc: 62.780%\n",
            "Epoch  3, CIFAR-10 Batch 4:  Cost: 0.746, Acc: 63.100%\n",
            "Epoch  3, CIFAR-10 Batch 5:  Cost: 0.678, Acc: 63.980%\n",
            "Epoch  4, CIFAR-10 Batch 1:  Cost: 0.761, Acc: 62.720%\n",
            "Epoch  4, CIFAR-10 Batch 2:  Cost: 0.587, Acc: 63.660%\n",
            "Epoch  4, CIFAR-10 Batch 3:  Cost: 0.471, Acc: 64.980%\n",
            "Epoch  4, CIFAR-10 Batch 4:  Cost: 0.598, Acc: 64.660%\n",
            "Epoch  4, CIFAR-10 Batch 5:  Cost: 0.510, Acc: 65.340%\n",
            "Epoch  5, CIFAR-10 Batch 1:  Cost: 0.560, Acc: 62.960%\n",
            "Epoch  5, CIFAR-10 Batch 2:  Cost: 0.487, Acc: 63.100%\n",
            "Epoch  5, CIFAR-10 Batch 3:  Cost: 0.372, Acc: 66.400%\n",
            "Epoch  5, CIFAR-10 Batch 4:  Cost: 0.442, Acc: 65.120%\n",
            "Epoch  5, CIFAR-10 Batch 5:  Cost: 0.366, Acc: 64.520%\n",
            "Epoch  6, CIFAR-10 Batch 1:  Cost: 0.444, Acc: 66.100%\n",
            "Epoch  6, CIFAR-10 Batch 2:  Cost: 0.328, Acc: 66.000%\n",
            "Epoch  6, CIFAR-10 Batch 3:  Cost: 0.306, Acc: 67.540%\n",
            "Epoch  6, CIFAR-10 Batch 4:  Cost: 0.325, Acc: 66.300%\n",
            "Epoch  6, CIFAR-10 Batch 5:  Cost: 0.338, Acc: 65.420%\n",
            "Epoch  7, CIFAR-10 Batch 1:  Cost: 0.292, Acc: 66.700%\n",
            "Epoch  7, CIFAR-10 Batch 2:  Cost: 0.236, Acc: 65.520%\n",
            "Epoch  7, CIFAR-10 Batch 3:  Cost: 0.193, Acc: 67.920%\n",
            "Epoch  7, CIFAR-10 Batch 4:  Cost: 0.236, Acc: 66.560%\n",
            "Epoch  7, CIFAR-10 Batch 5:  Cost: 0.217, Acc: 65.980%\n",
            "Epoch  8, CIFAR-10 Batch 1:  Cost: 0.194, Acc: 67.800%\n",
            "Epoch  8, CIFAR-10 Batch 2:  Cost: 0.167, Acc: 67.460%\n",
            "Epoch  8, CIFAR-10 Batch 3:  Cost: 0.132, Acc: 68.060%\n",
            "Epoch  8, CIFAR-10 Batch 4:  Cost: 0.178, Acc: 68.320%\n",
            "Epoch  8, CIFAR-10 Batch 5:  Cost: 0.139, Acc: 66.720%\n",
            "Epoch  9, CIFAR-10 Batch 1:  Cost: 0.148, Acc: 67.740%\n",
            "Epoch  9, CIFAR-10 Batch 2:  Cost: 0.138, Acc: 67.100%\n"
          ],
          "name": "stdout"
        },
        {
          "output_type": "stream",
          "text": [
            "Epoch  9, CIFAR-10 Batch 3:  Cost: 0.098, Acc: 66.440%\n",
            "Epoch  9, CIFAR-10 Batch 4:  Cost: 0.122, Acc: 68.380%\n",
            "Epoch  9, CIFAR-10 Batch 5:  Cost: 0.106, Acc: 67.880%\n",
            "Epoch 10, CIFAR-10 Batch 1:  Cost: 0.133, Acc: 67.220%\n",
            "Epoch 10, CIFAR-10 Batch 2:  Cost: 0.092, Acc: 67.060%\n",
            "Epoch 10, CIFAR-10 Batch 3:  Cost: 0.074, Acc: 67.680%\n",
            "Epoch 10, CIFAR-10 Batch 4:  Cost: 0.127, Acc: 65.780%\n",
            "Epoch 10, CIFAR-10 Batch 5:  Cost: 0.089, Acc: 67.080%\n",
            "Epoch 11, CIFAR-10 Batch 1:  Cost: 0.079, Acc: 67.820%\n",
            "Epoch 11, CIFAR-10 Batch 2:  Cost: 0.101, Acc: 67.900%\n",
            "Epoch 11, CIFAR-10 Batch 3:  Cost: 0.032, Acc: 68.100%\n",
            "Epoch 11, CIFAR-10 Batch 4:  Cost: 0.077, Acc: 65.960%\n",
            "Epoch 11, CIFAR-10 Batch 5:  Cost: 0.063, Acc: 68.680%\n",
            "Epoch 12, CIFAR-10 Batch 1:  Cost: 0.049, Acc: 68.020%\n",
            "Epoch 12, CIFAR-10 Batch 2:  Cost: 0.072, Acc: 67.280%\n",
            "Epoch 12, CIFAR-10 Batch 3:  Cost: 0.033, Acc: 68.600%\n",
            "Epoch 12, CIFAR-10 Batch 4:  Cost: 0.047, Acc: 67.240%\n",
            "Epoch 12, CIFAR-10 Batch 5:  Cost: 0.034, Acc: 69.060%\n",
            "Epoch 13, CIFAR-10 Batch 1:  Cost: 0.020, Acc: 68.480%\n",
            "Epoch 13, CIFAR-10 Batch 2:  Cost: 0.027, Acc: 67.820%\n",
            "Epoch 13, CIFAR-10 Batch 3:  Cost: 0.025, Acc: 66.960%\n",
            "Epoch 13, CIFAR-10 Batch 4:  Cost: 0.025, Acc: 68.720%\n",
            "Epoch 13, CIFAR-10 Batch 5:  Cost: 0.027, Acc: 68.120%\n",
            "Epoch 14, CIFAR-10 Batch 1:  Cost: 0.031, Acc: 67.780%\n",
            "Epoch 14, CIFAR-10 Batch 2:  Cost: 0.017, Acc: 67.260%\n",
            "Epoch 14, CIFAR-10 Batch 3:  Cost: 0.011, Acc: 67.400%\n",
            "Epoch 14, CIFAR-10 Batch 4:  Cost: 0.050, Acc: 67.620%\n",
            "Epoch 14, CIFAR-10 Batch 5:  Cost: 0.021, Acc: 68.740%\n",
            "Epoch 15, CIFAR-10 Batch 1:  Cost: 0.021, Acc: 68.340%\n",
            "Epoch 15, CIFAR-10 Batch 2:  Cost: 0.019, Acc: 67.060%\n",
            "Epoch 15, CIFAR-10 Batch 3:  Cost: 0.016, Acc: 68.040%\n",
            "Epoch 15, CIFAR-10 Batch 4:  Cost: 0.022, Acc: 68.380%\n",
            "Epoch 15, CIFAR-10 Batch 5:  Cost: 0.015, Acc: 69.380%\n",
            "Epoch 16, CIFAR-10 Batch 1:  Cost: 0.012, Acc: 69.100%\n",
            "Epoch 16, CIFAR-10 Batch 2:  Cost: 0.026, Acc: 67.520%\n",
            "Epoch 16, CIFAR-10 Batch 3:  Cost: 0.014, Acc: 67.140%\n",
            "Epoch 16, CIFAR-10 Batch 4:  Cost: 0.011, Acc: 68.460%\n",
            "Epoch 16, CIFAR-10 Batch 5:  Cost: 0.013, Acc: 68.080%\n",
            "Epoch 17, CIFAR-10 Batch 1:  Cost: 0.016, Acc: 67.900%\n",
            "Epoch 17, CIFAR-10 Batch 2:  Cost: 0.009, Acc: 68.120%\n",
            "Epoch 17, CIFAR-10 Batch 3:  Cost: 0.010, Acc: 67.740%\n",
            "Epoch 17, CIFAR-10 Batch 4:  Cost: 0.016, Acc: 67.640%\n"
          ],
          "name": "stdout"
        },
        {
          "output_type": "stream",
          "text": [
            "Epoch 17, CIFAR-10 Batch 5:  Cost: 0.009, Acc: 68.960%\n",
            "Epoch 18, CIFAR-10 Batch 1:  Cost: 0.010, Acc: 68.940%\n",
            "Epoch 18, CIFAR-10 Batch 2:  Cost: 0.003, Acc: 67.920%\n",
            "Epoch 18, CIFAR-10 Batch 3:  Cost: 0.004, Acc: 68.700%\n",
            "Epoch 18, CIFAR-10 Batch 4:  Cost: 0.018, Acc: 67.940%\n",
            "Epoch 18, CIFAR-10 Batch 5:  Cost: 0.010, Acc: 68.580%\n",
            "Epoch 19, CIFAR-10 Batch 1:  Cost: 0.015, Acc: 68.440%\n",
            "Epoch 19, CIFAR-10 Batch 2:  Cost: 0.003, Acc: 67.800%\n",
            "Epoch 19, CIFAR-10 Batch 3:  Cost: 0.018, Acc: 67.860%\n",
            "Epoch 19, CIFAR-10 Batch 4:  Cost: 0.014, Acc: 67.860%\n",
            "Epoch 19, CIFAR-10 Batch 5:  Cost: 0.004, Acc: 68.620%\n",
            "Epoch 20, CIFAR-10 Batch 1:  Cost: 0.004, Acc: 67.840%\n",
            "Epoch 20, CIFAR-10 Batch 2:  Cost: 0.003, Acc: 68.120%\n",
            "Epoch 20, CIFAR-10 Batch 3:  Cost: 0.005, Acc: 67.160%\n",
            "Epoch 20, CIFAR-10 Batch 4:  Cost: 0.010, Acc: 67.140%\n",
            "Epoch 20, CIFAR-10 Batch 5:  Cost: 0.004, Acc: 69.340%\n"
          ],
          "name": "stdout"
        }
      ]
    },
    {
      "metadata": {
        "id": "ZVTlWOrci29t",
        "colab_type": "text"
      },
      "cell_type": "markdown",
      "source": [
        "# Checkpoint\n",
        "The model has been saved to disk.\n",
        "## Test Model\n",
        "Test your model against the test dataset.  This will be your final accuracy. You should have an accuracy greater than 50%. If you don't, keep tweaking the model architecture and parameters."
      ]
    },
    {
      "metadata": {
        "id": "sQIC2WvWi29u",
        "colab_type": "code",
        "colab": {
          "autoexec": {
            "startup": false,
            "wait_interval": 0
          },
          "output_extras": [
            {
              "item_id": 2
            },
            {
              "item_id": 3
            }
          ],
          "base_uri": "https://localhost:8080/",
          "height": 387
        },
        "outputId": "65f85a24-3d7b-4ed3-ec82-26e4436f91a2",
        "executionInfo": {
          "status": "ok",
          "timestamp": 1518008772076,
          "user_tz": -120,
          "elapsed": 3781,
          "user": {
            "displayName": "Mohamed Elzarei",
            "photoUrl": "//lh3.googleusercontent.com/-9PR94pOwOSg/AAAAAAAAAAI/AAAAAAAAB2E/BEprUUQJxXQ/s50-c-k-no/photo.jpg",
            "userId": "116813287638059514037"
          }
        }
      },
      "cell_type": "code",
      "source": [
        "\"\"\"\n",
        "DON'T MODIFY ANYTHING IN THIS CELL\n",
        "\"\"\"\n",
        "%matplotlib inline\n",
        "%config InlineBackend.figure_format = 'retina'\n",
        "\n",
        "import tensorflow as tf\n",
        "import pickle\n",
        "import helper\n",
        "import random\n",
        "\n",
        "# Set batch size if not already set\n",
        "try:\n",
        "    if batch_size:\n",
        "        pass\n",
        "except NameError:\n",
        "    batch_size = 64\n",
        "\n",
        "save_model_path = './image_classification'\n",
        "n_samples = 4\n",
        "top_n_predictions = 3\n",
        "\n",
        "def test_model():\n",
        "    \"\"\"\n",
        "    Test the saved model against the test dataset\n",
        "    \"\"\"\n",
        "\n",
        "    test_features, test_labels = pickle.load(open('preprocess_test.p', mode='rb'))\n",
        "    loaded_graph = tf.Graph()\n",
        "\n",
        "    with tf.Session(graph=loaded_graph) as sess:\n",
        "        # Load model\n",
        "        loader = tf.train.import_meta_graph(save_model_path + '.meta')\n",
        "        loader.restore(sess, save_model_path)\n",
        "\n",
        "        # Get Tensors from loaded model\n",
        "        loaded_x = loaded_graph.get_tensor_by_name('x:0')\n",
        "        loaded_y = loaded_graph.get_tensor_by_name('y:0')\n",
        "        loaded_keep_prob = loaded_graph.get_tensor_by_name('keep_prob:0')\n",
        "        loaded_logits = loaded_graph.get_tensor_by_name('logits:0')\n",
        "        loaded_acc = loaded_graph.get_tensor_by_name('accuracy:0')\n",
        "        \n",
        "        # Get accuracy in batches for memory limitations\n",
        "        test_batch_acc_total = 0\n",
        "        test_batch_count = 0\n",
        "        \n",
        "        for test_feature_batch, test_label_batch in helper.batch_features_labels(test_features, test_labels, batch_size):\n",
        "            test_batch_acc_total += sess.run(\n",
        "                loaded_acc,\n",
        "                feed_dict={loaded_x: test_feature_batch, loaded_y: test_label_batch, loaded_keep_prob: 1.0})\n",
        "            test_batch_count += 1\n",
        "\n",
        "        print('Testing Accuracy: {}\\n'.format(test_batch_acc_total/test_batch_count))\n",
        "\n",
        "        # Print Random Samples\n",
        "        random_test_features, random_test_labels = tuple(zip(*random.sample(list(zip(test_features, test_labels)), n_samples)))\n",
        "        random_test_predictions = sess.run(\n",
        "            tf.nn.top_k(tf.nn.softmax(loaded_logits), top_n_predictions),\n",
        "            feed_dict={loaded_x: random_test_features, loaded_y: random_test_labels, loaded_keep_prob: 1.0})\n",
        "        helper.display_image_predictions(random_test_features, random_test_labels, random_test_predictions)\n",
        "\n",
        "\n",
        "test_model()"
      ],
      "execution_count": 48,
      "outputs": [
        {
          "output_type": "stream",
          "text": [
            "INFO:tensorflow:Restoring parameters from ./image_classification\n",
            "Testing Accuracy: 0.6860166139240507\n",
            "\n"
          ],
          "name": "stdout"
        },
        {
          "output_type": "display_data",
          "data": {
            "image/png": "[encoded data removed]",
            "text/plain": [
              "<matplotlib.figure.Figure at 0x7f0ae2537a20>"
            ]
          },
          "metadata": {
            "tags": [],
            "image/png": {
              "width": 354,
              "height": 319
            }
          }
        }
      ]
    },
    {
      "metadata": {
        "id": "1XbU08YEi29w",
        "colab_type": "text"
      },
      "cell_type": "markdown",
      "source": [
        "## Why 50-80% Accuracy?\n",
        "You might be wondering why you can't get an accuracy any higher. First things first, 50% isn't bad for a simple CNN.  Pure guessing would get you 10% accuracy. However, you might notice people are getting scores [well above 80%](http://rodrigob.github.io/are_we_there_yet/build/classification_datasets_results.html#43494641522d3130).  That's because we haven't taught you all there is to know about neural networks. We still need to cover a few more techniques.\n",
        "## Submitting This Project\n",
        "When submitting this project, make sure to run all the cells before saving the notebook.  Save the notebook file as \"dlnd_image_classification.ipynb\" and save it as a HTML file under \"File\" -> \"Download as\".  Include the \"helper.py\" and \"problem_unittests.py\" files in your submission."
      ]
    }
  ]
}